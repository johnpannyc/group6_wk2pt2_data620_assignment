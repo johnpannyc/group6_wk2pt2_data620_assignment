{
 "cells": [
  {
   "cell_type": "markdown",
   "metadata": {},
   "source": [
    "#    Data 620, Assignment Week 2, Part 2:  Centrality Measures\n",
    "Team 6: Alice Friedman, Jun Pan, Stephen (Scott) Jones, and Jeff Littlefield\n",
    "June 12, 2019"
   ]
  },
  {
   "cell_type": "markdown",
   "metadata": {},
   "source": [
    "## Topic: Social Network Analysis of Mike Gravel's Twitter Campaign\n",
    "\n",
    "Candidates, parties, journalists, and a steadily increasing share of the public are using Twitter to comment on, interact around, and research public reactions to politics (Jungheer 2016).  Use of Twitter can be modeled as a network in several ways: Users can be described as nodes and edges can be described as they follow, reply and mention one another. These connections are visible in the text of each tweet or by requesting lists of the users that follow the author of each tweet from Twitter. Additionally, Tweets themselves can be nodes that are linked to each other in a chain of retweets. Users are tagged with a variety of categorial data including language, location, and verfication status.\n",
    "\n",
    "A recent feature by Jamie Lauren Keiles in the <i>New York Times Magazine</i>, ([Are These Teenagers Really Running a Presidential Campaign? Yes. (Maybe.)”](https://www.nytimes.com/2019/06/06/magazine/mike-gravel-teens-twitter-presidential-campaign.html)), describes the unorthodox strategy of presidential hopeful and former Senator Mike Gravel, who has turned his social media campaign over to a pair of teenagers. Teenagers are more active than other age groups by accessing social media tools such as Twitter, Facebook and Instagram, but are much less likely to vote than older Americans (especially since by definition most of them aren't old enough!). \n",
    "\n",
    "We propose to investigate the network of users who retweet Mike Gravel's official campaign account in order to ascertain whether his strategy is reaching political influencers. "
   ]
  },
  {
   "cell_type": "markdown",
   "metadata": {},
   "source": [
    "## Data Acquisition & Cleaning\n",
    "\n",
    "Twitter data is available through as JSON through a tiered API. Free versions of the API provide a sample of Tweets available for the last week.\n",
    "\n",
    "The ego in the network will be modeled as the official campaign Twitter account. Because retweets are a more robust demonstration of engagement than likes or follows, other nodes will be modeled as connected to the ego where they have retweeted any tweet from the account. The social network will be modeled with a depth of 2, so that accounts that have retweeted users from the first level of analysis will also be included. To facilitate this process, only a subset of the original nodes chosen (using the core method or island method in the textbook, <i>Social Network Analysis for Startups</i>) will be used to gather 2 level data.\n",
    "\n",
    "A summary of the steps is below:\n",
    "\n",
    "1. Establish Mike Gravel's campaign Twitter account as ego (@MikeGravel)\n",
    "2. Initial JSON query of Twitter data to find retweets of this account, including categorical data for field \"verified\"\n",
    "3. Add edges to ego to every account which retweets @MikeGravel during the sample period\n",
    "4. Subset nodes using core method or island method, depending on data distribution\n",
    "5. Second JSON query to find accounts which retweeted first level nodes, including categorical \"verified\" data\n",
    "6. Add edges to nodes in network based on retweets\n",
    "7. Subset final network based on island method\n"
   ]
  },
  {
   "cell_type": "markdown",
   "metadata": {},
   "source": [
    "## Proposed Analysis & Potential Outcomes\n",
    "\n",
    "We will evaluate the social network graph in each category as well as the whole network in order to determine the most influential users who are being reached by the campaign.\n",
    "\n",
    "Communities within the overall network will be identified using the island method. For each community, we will determine influential nodes based on the PageRank algorithm, betweenness centrality, closeness, and degree. Further, we will evaluate these measures for subgroups verified users and un-verified users.\n",
    "\n",
    "We may be able to see the communities of users including different age groups, political affiliations, and/or professional associations such as political journalists. We also anticipate that verified users will be more central than unverified users nodes, on average, because they have taken the time to obtain verified accounts.\n"
   ]
  },
  {
   "cell_type": "markdown",
   "metadata": {},
   "source": [
    "## Conclusion and Next Steps\n",
    "\n",
    "As further analysis for a future project, it would be interesting to compare social network graphs where different political campaigns were modeled as the ego to determine whether campaigns are reaching more or less the same audiences or not, and whether certain Twitter users are central to politics, in general. For example, we might expect highly active political Twitter users to have a high degree of centrality across multiple campaigns, whereas users with centrality to the campaign of only one campaign might be directly affiliated with that campaign."
   ]
  },
  {
   "cell_type": "markdown",
   "metadata": {},
   "source": [
    "## References\n",
    "\n",
    "[Community evolution analysis](https://github.com/socialsensor/community-evolution-analysis)\n",
    "\n",
    "Jungherr, A. Twitter use in election campaigns: A systematic literature review. Journal of information technology & politics. 2016:13(1) 72-91\n",
    "\n",
    "[Kelies, New York Times. 2019-06-06](https://www.nytimes.com/2019/06/06/magazine/mike-gravel-teens-twitter-presidential-campaign.html?action=click&module=Editors%20Picks&pgtype=Homepage)\n",
    "\n",
    "[Kozloski, AA. Twitter Analysis in the 2018 Senate Runoff Election](https://rpubs.com/gladdar/Miss_Election_Twitter_2018)\n",
    "\n",
    "[Twitter networker analyzer](https://github.com/rajathvsm/TwitterNetworkAnalyzer/blob/master/submission.py)"
   ]
  }
 ],
 "metadata": {
  "kernelspec": {
   "display_name": "Python 3",
   "language": "python",
   "name": "python3"
  },
  "language_info": {
   "codemirror_mode": {
    "name": "ipython",
    "version": 3
   },
   "file_extension": ".py",
   "mimetype": "text/x-python",
   "name": "python",
   "nbconvert_exporter": "python",
   "pygments_lexer": "ipython3",
   "version": "3.7.3"
  }
 },
 "nbformat": 4,
 "nbformat_minor": 2
}
